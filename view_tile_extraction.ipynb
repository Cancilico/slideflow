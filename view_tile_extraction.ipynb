{
 "cells": [
  {
   "cell_type": "code",
   "execution_count": 1,
   "metadata": {},
   "outputs": [],
   "source": [
    "import requests\n",
    "import sys\n",
    "import numpy as np\n",
    "import tensorflow as tf\n",
    "from tensorflow import keras\n",
    "import pandas as pd\n",
    "import matplotlib.pyplot as plt\n",
    "import os\n",
    "os.environ['SF_BACKEND'] = 'tensorflow'\n",
    "import click\n",
    "import multiprocessing\n",
    "from multiprocessing import freeze_support\n",
    "sys.path.append(os.path.dirname('/mnt/home/ecdyer/slideflow_ecdyer/slideflow/slideflow'))\n",
    "import slideflow as sf\n",
    "os.environ['CUDA_VISIBLE_DEVICES'] = '0,1,2,3'"
   ]
  },
  {
   "cell_type": "code",
   "execution_count": null,
   "metadata": {},
   "outputs": [],
   "source": [
    "sf.WSI('/mnt/labshare/SLIDES/MD_ANDERSON_new/box_3_scans/1M01.mrxs', tile_px=299, tile_um=302, rois=['/mnt/data/ROIS/SALIVARY_GLAND/MD_ANDERSON_ACC/1M01.csv']).preview().show()"
   ]
  }
 ],
 "metadata": {
  "kernelspec": {
   "display_name": "ecdyer_sf",
   "language": "python",
   "name": "python3"
  },
  "language_info": {
   "codemirror_mode": {
    "name": "ipython",
    "version": 3
   },
   "file_extension": ".py",
   "mimetype": "text/x-python",
   "name": "python",
   "nbconvert_exporter": "python",
   "pygments_lexer": "ipython3",
   "version": "3.9.13"
  },
  "orig_nbformat": 4
 },
 "nbformat": 4,
 "nbformat_minor": 2
}
