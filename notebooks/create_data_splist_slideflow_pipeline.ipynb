{
 "cells": [
  {
   "cell_type": "code",
   "execution_count": null,
   "metadata": {},
   "outputs": [],
   "source": []
  },
  {
   "cell_type": "markdown",
   "metadata": {},
   "source": [
    "## Create splits in accordance with MONAI(val) and CLAM (train, val)"
   ]
  },
  {
   "cell_type": "code",
   "execution_count": null,
   "metadata": {},
   "outputs": [],
   "source": [
    "import os\n",
    "import pandas as pd\n",
    "import json"
   ]
  },
  {
   "cell_type": "code",
   "execution_count": null,
   "metadata": {},
   "outputs": [],
   "source": [
    "patient_df = pd.read_csv(r'D:\\github\\CLAM\\dataset_csv\\pandas_tumor_subtyping_train_val_clean807.csv') # PANDA metadata subset 985 slides\n",
    "split_0_df = pd.read_csv(r'D:\\github\\slideflow\\notebooks\\splits_0.csv') #split_0.csv used for traininig CLAM\n",
    "\n",
    "split_config = {\n",
    "    'strategy': 'fixed',\n",
    "    'patients': {},\n",
    "    'tfrecords': {\n",
    "        'training': [],\n",
    "        'validation': [],\n",
    "        'test': []\n",
    "    }\n",
    "}\n",
    "\n",
    "# Populate the patient details and the specific split categories\n",
    "for index, row in patient_df.iterrows():\n",
    "    patient_id = row['patient']\n",
    "    slide_id = row['slide']\n",
    "    label = row['label']\n",
    "\n",
    "    patient_entry = {\n",
    "        'outcome_label': label,\n",
    "        'slides': [slide_id]\n",
    "    }\n",
    "    split_config['patients'][patient_id] = patient_entry\n",
    "\n",
    "    # Determine which split the slide belongs to\n",
    "    if slide_id in split_0_df['train'].values:\n",
    "        split_config['tfrecords']['training'].append(slide_id)\n",
    "    elif slide_id in split_0_df['val'].values:\n",
    "        split_config['tfrecords']['validation'].append(slide_id)\n",
    "    elif slide_id in split_0_df['test'].values:\n",
    "        split_config['tfrecords']['test'].append(slide_id)\n",
    "\n",
    "# Displaying the configuration for confirmation before saving\n",
    "print(split_config)"
   ]
  },
  {
   "cell_type": "code",
   "execution_count": null,
   "metadata": {},
   "outputs": [],
   "source": [
    "split_config_list = [split_config]"
   ]
  },
  {
   "cell_type": "code",
   "execution_count": null,
   "metadata": {},
   "outputs": [],
   "source": [
    "# Save the created split configuration to a JSON file\n",
    "with open(r'D:\\github\\slideflow\\notebooks\\split_config.json', 'w') as file:\n",
    "    json.dump(split_config_list, file, indent=4)"
   ]
  },
  {
   "cell_type": "code",
   "execution_count": null,
   "metadata": {},
   "outputs": [],
   "source": []
  }
 ],
 "metadata": {
  "kernelspec": {
   "display_name": "base",
   "language": "python",
   "name": "python3"
  },
  "language_info": {
   "name": "python",
   "version": "3.10.14"
  }
 },
 "nbformat": 4,
 "nbformat_minor": 2
}
